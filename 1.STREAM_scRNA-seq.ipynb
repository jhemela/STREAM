%matplotlib inline
import stream as st
st.__version__


# Using default working directory.
# To load and use 10x Genomics single cell RNA-seq data processed with Cell Ranger:
# (Make sure 'genes.tsv' and 'barcodes.tsv' are under the same folder as 'matrix.mtx')
adata=st.read(file_name='./Seurat/DMSO/matrix.mtx',file_format='mtx')


# read in cell labels and label color
# if cell label file or cell color file is not provided, please simply run:
# 'unknown' will be added as the default label for all cells
# st.add_cell_labels(adata)
# 'random color will be generated for each cell label
# st.add_cell_colors(adata)
st.add_cell_labels(adata,file_name='./cell_label.tsv.gz')
st.add_cell_colors(adata,file_name='./cell_label_color.tsv.gz')

# other useful preprocessing steps when dealing with raw-count data
# Normalize gene expression based on library size
# st.normalize_per_cell(adata)
# Logarithmize gene expression
# st.log_transform(adata)
# Remove mitochondrial genes
# st.remove_mt_genes(adata)
# Filter out cells
# st.filter_cells(adata)
# Filter out genes
st.filter_genes(adata,min_num_cells = max(5,int(round(adata.shape[0]*0.001))),
min_pct_cells = None,expr_cutoff = 1)

